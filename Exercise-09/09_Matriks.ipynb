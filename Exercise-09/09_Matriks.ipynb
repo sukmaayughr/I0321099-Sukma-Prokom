{
 "cells": [
  {
   "cell_type": "markdown",
   "metadata": {},
   "source": [
    "# Exercise 09  \n",
    "### OPERASI MATRIKS  \n",
    "Silahkan lengkapi kode yang rumpang sesuai perintah yang diberikan.\n"
   ]
  },
  {
   "cell_type": "markdown",
   "metadata": {},
   "source": [
    "![](./image/1.png)"
   ]
  },
  {
   "cell_type": "code",
   "execution_count": 8,
   "metadata": {},
   "outputs": [
    {
     "name": "stdout",
     "output_type": "stream",
     "text": [
      "[[103, 103], [103, 103]]\n",
      "[[95, 95], [95, 95]]\n"
     ]
    }
   ],
   "source": [
    "A = [[103,103],\n",
    "     [103,103]]\n",
    "\n",
    "B = [[95, 95],\n",
    "     [95, 95]]\n",
    "print(A)\n",
    "print(B)"
   ]
  },
  {
   "cell_type": "markdown",
   "metadata": {},
   "source": [
    "Buatlah matriks menggunakan metode perulangan for dengan ketentuan sebagai berikut:\n",
    "* Matriks A berisi angka sebesar 4 setelah nim kalian. (ex: nim = 12, nilai matriks [16, 16],[16,16])\n",
    "* Matriks B berisi angka sebesar 4 sebelum nim kalian. (ex: nim = 12, nilai matriks [8, 8],[8,8])\n"
   ]
  },
  {
   "cell_type": "code",
   "execution_count": 9,
   "metadata": {},
   "outputs": [
    {
     "name": "stdout",
     "output_type": "stream",
     "text": [
      "[[103, 103], [103, 103]]\n",
      "[[95, 95], [95, 95]]\n"
     ]
    }
   ],
   "source": [
    "def create(matriks, nim):\n",
    "    for i in range(2):\n",
    "        for k in range(2):\n",
    "            matriks[i][k] = nim\n",
    "create(A, 103)\n",
    "create(B, 95)\n",
    "\n",
    "print(A)\n",
    "print(B)"
   ]
  },
  {
   "cell_type": "markdown",
   "metadata": {},
   "source": [
    "## KERJAKAN SOAL BERIKUT\n",
    "1. Buatlah program penjumlahan matriks A dan B.\n",
    "2. Buatlah program pengurangan matriks A dan B.\n",
    "3. Buatlah program perkalian matriks A dan B."
   ]
  },
  {
   "cell_type": "code",
   "execution_count": 10,
   "metadata": {},
   "outputs": [
    {
     "name": "stdout",
     "output_type": "stream",
     "text": [
      "[ 198 198 ]\n",
      "[ 198 198 ]\n"
     ]
    }
   ],
   "source": [
    "#SOAL-1\n",
    "#YOUR CODE HERE\n",
    "A = [[103,103],\n",
    "     [103,103]]\n",
    "\n",
    "B = [[95, 95],\n",
    "     [95, 95]]\n",
    "\n",
    "for i in range(len(A)):\n",
    "    print(\"[\", end = \" \")\n",
    "    for j in range(len(B)):\n",
    "        jumlah_matriks = A[i][j]+B[i][j]\n",
    "        print(jumlah_matriks, end = \" \")\n",
    "    print(\"]\")\n"
   ]
  },
  {
   "cell_type": "code",
   "execution_count": 11,
   "metadata": {},
   "outputs": [
    {
     "name": "stdout",
     "output_type": "stream",
     "text": [
      "[ 8 8 ]\n",
      "[ 8 8 ]\n"
     ]
    }
   ],
   "source": [
    "#SOAL-2\n",
    "#YOUR CODE HERE\n",
    "A = [[103,103],\n",
    "     [103,103]]\n",
    "\n",
    "B = [[95, 95],\n",
    "     [95, 95]]\n",
    "\n",
    "for i in range(len(A)):\n",
    "    print(\"[\", end = \" \")\n",
    "    for j in range(len(B)):\n",
    "        jumlah_matriks = A[i][j]-B[i][j]\n",
    "        print(jumlah_matriks, end = \" \")\n",
    "    print(\"]\")"
   ]
  },
  {
   "cell_type": "code",
   "execution_count": 12,
   "metadata": {},
   "outputs": [
    {
     "name": "stdout",
     "output_type": "stream",
     "text": [
      "[ 19570 19570 ]\n",
      "[ 19570 19570 ]\n"
     ]
    }
   ],
   "source": [
    "#SOAL-3\n",
    "#YOUR CODE HERE\n",
    "A = [[103,103],\n",
    "     [103,103]]\n",
    "\n",
    "B = [[95, 95],\n",
    "     [95, 95]]\n",
    "\n",
    "C = []\n",
    "\n",
    "for i in range (0, len(A)):\n",
    "    baris = []\n",
    "    for j in range (0, len(A[0])):\n",
    "        total = 0\n",
    "        for k in range(0, len(A)):\n",
    "            total = total + (A[i][k]*B[j][k])\n",
    "        baris.append(total)\n",
    "    C.append(baris)\n",
    "\n",
    "for i in range(0, len(C)):\n",
    "    print(\"[\", end = \" \")\n",
    "    for y in range(0, len(C[0])):\n",
    "        print(C[i][j], end = \" \")\n",
    "    print(\"]\")"
   ]
  },
  {
   "cell_type": "markdown",
   "metadata": {},
   "source": [
    "### Cara Pengumpulan\n",
    "\n",
    "1. Buka *New Terminal*\n",
    "2. Pastikan *path* Terminal adalah folder repositori kalian (NIM-Nama-Prokom).\n",
    "3. Tambahkan file yang akan ditrack dengan `git add <nama file>`. Nama file bisa diubah . (titik)  `git add .`yang artinya semua file dalam folder akan ditrack.\n",
    "4. Lakukan commit perubahan dengan `git commit -m <deskripsi>`.\n",
    "5. Lakukan push dengan `git push -u origin <nama branch>`. Nama branch dapat diketahui dengan `git branch`.\n",
    "6. Pastikan Exercise-02 telah terupload dan dapat diakses di repositori dengan mengaksesnya di browser."
   ]
  }
 ],
 "metadata": {
  "interpreter": {
   "hash": "a5a87ee616be0254e3f1af9223138e3faeac65b2c9d91bc22a9fc5a4a8bd8eb0"
  },
  "kernelspec": {
   "display_name": "Python 3.9.12 64-bit (windows store)",
   "language": "python",
   "name": "python3"
  },
  "language_info": {
   "codemirror_mode": {
    "name": "ipython",
    "version": 3
   },
   "file_extension": ".py",
   "mimetype": "text/x-python",
   "name": "python",
   "nbconvert_exporter": "python",
   "pygments_lexer": "ipython3",
   "version": "3.9.12"
  },
  "orig_nbformat": 4
 },
 "nbformat": 4,
 "nbformat_minor": 2
}
